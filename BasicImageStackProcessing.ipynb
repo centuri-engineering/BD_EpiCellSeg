{
 "cells": [
  {
   "cell_type": "markdown",
   "metadata": {},
   "source": [
    "# Basic image stack processing (with corrections)"
   ]
  },
  {
   "cell_type": "markdown",
   "metadata": {
    "tags": []
   },
   "source": [
    "---\n",
    "## 1) Open image stack using scikit-image\n",
    "Here, we will learn how to open a stack of images using the scikit-image (or skimage) library."
   ]
  },
  {
   "cell_type": "markdown",
   "metadata": {},
   "source": [
    "- **1.1** - Import the `io` module from skimage :"
   ]
  },
  {
   "cell_type": "code",
   "execution_count": null,
   "metadata": {},
   "outputs": [],
   "source": [
    "from skimage import io"
   ]
  },
  {
   "cell_type": "markdown",
   "metadata": {},
   "source": [
    "- **1.2** - Define a path toward `Ctrl_Endocad-GFP(6-12-13)_23_StackCrop.tif` located in the `BD_EpiCellSeg/DataSet` shared folder : "
   ]
  },
  {
   "cell_type": "code",
   "execution_count": null,
   "metadata": {},
   "outputs": [],
   "source": [
    "ROOT_PATH = 'C:/Users/Benoit Dehapiot/BD_EpiCellSeg/DataSet/' # modify your path according to where is located the shared folder on your computer\n",
    "STACK_NAME = 'Ctrl_Endocad-GFP(6-12-13)_23_StackCrop.tif'"
   ]
  },
  {
   "cell_type": "markdown",
   "metadata": {},
   "source": [
    "- **1.3** - Combine ROOT_PATH and STACK_NAME to obtain the full path toward the stack :"
   ]
  },
  {
   "cell_type": "code",
   "execution_count": null,
   "metadata": {},
   "outputs": [],
   "source": [
    "stack_path = (ROOT_PATH+STACK_NAME)\n",
    "print(stack_path)"
   ]
  },
  {
   "cell_type": "markdown",
   "metadata": {},
   "source": [
    "- **1.4** - Open stack using the `imread` function of the `io` module :"
   ]
  },
  {
   "cell_type": "code",
   "execution_count": null,
   "metadata": {},
   "outputs": [],
   "source": [
    "stack = io.imread(stack_path)"
   ]
  },
  {
   "cell_type": "markdown",
   "metadata": {},
   "source": [
    "---\n",
    "## 2) Get stack dimension\n",
    "Here, we will get the number of dimensions of the stack and then measure the size of the stack along each of these dimensions.  "
   ]
  },
  {
   "cell_type": "markdown",
   "metadata": {},
   "source": [
    "- **2.1** - Get number of dimension using `.ndim` attribute :"
   ]
  },
  {
   "cell_type": "code",
   "execution_count": null,
   "metadata": {},
   "outputs": [],
   "source": [
    "print(stack.ndim)"
   ]
  },
  {
   "cell_type": "markdown",
   "metadata": {},
   "source": [
    "- **2.2** - Get size of each dimensions using `.shape` attribute :"
   ]
  },
  {
   "cell_type": "code",
   "execution_count": null,
   "metadata": {},
   "outputs": [],
   "source": [
    "print(stack.shape)"
   ]
  },
  {
   "cell_type": "markdown",
   "metadata": {},
   "source": [
    "- **2.3** - Assign variables to each dimension sizes :"
   ]
  },
  {
   "cell_type": "code",
   "execution_count": null,
   "metadata": {},
   "outputs": [],
   "source": [
    "nT = stack.shape[0] # get Stack size in time\n",
    "nY = stack.shape[1] # get Stack size in y\n",
    "nX = stack.shape[2] # get Stack size in x\n",
    "print(nT, nY, nX)"
   ]
  },
  {
   "cell_type": "markdown",
   "metadata": {},
   "source": [
    "---\n",
    "## 3) Extract and diplay images from stack\n",
    "Here, we will extract selected images from stack and display it using the matplotlib library."
   ]
  },
  {
   "cell_type": "markdown",
   "metadata": {},
   "source": [
    "- **3.1** - Import `matplotlib.pyplot` module as `plt` :"
   ]
  },
  {
   "cell_type": "code",
   "execution_count": null,
   "metadata": {},
   "outputs": [],
   "source": [
    "import matplotlib.pyplot as plt"
   ]
  },
  {
   "cell_type": "markdown",
   "metadata": {},
   "source": [
    "- **3.2** - Extract first image of the stack :"
   ]
  },
  {
   "cell_type": "code",
   "execution_count": null,
   "metadata": {},
   "outputs": [],
   "source": [
    "first_image = stack[0,:,:] # index 0 return to the first element of the array"
   ]
  },
  {
   "cell_type": "markdown",
   "metadata": {},
   "source": [
    "- **3.3** - Display first image using `imshow` function of the `plt` module :"
   ]
  },
  {
   "cell_type": "code",
   "execution_count": null,
   "metadata": {},
   "outputs": [],
   "source": [
    "f, ax = plt.subplots(1,1,figsize=(10,10))\n",
    "ax.imshow(first_image, cmap='gray') # display first_image\n",
    "ax.title.set_text('first image') # add title\n",
    "plt.show()"
   ]
  },
  {
   "cell_type": "markdown",
   "metadata": {},
   "source": [
    "<span style=\"color:red\"> **- Exercice 1: Display first and last image side by side :**"
   ]
  },
  {
   "cell_type": "code",
   "execution_count": null,
   "metadata": {},
   "outputs": [],
   "source": [
    "# Find a solution, see 3.3"
   ]
  },
  {
   "cell_type": "code",
   "execution_count": null,
   "metadata": {},
   "outputs": [],
   "source": []
  },
  {
   "cell_type": "markdown",
   "metadata": {},
   "source": [
    "---\n",
    "## 4) Resize stack\n",
    "Here, we will reduce the size of the x and y dimensions to increase the computation speed."
   ]
  },
  {
   "cell_type": "markdown",
   "metadata": {},
   "source": [
    "- **4.1** - Import `resize` function from the `skimage.transform` module :"
   ]
  },
  {
   "cell_type": "code",
   "execution_count": null,
   "metadata": {},
   "outputs": [],
   "source": [
    "from skimage.transform import resize"
   ]
  },
  {
   "cell_type": "markdown",
   "metadata": {},
   "source": [
    "- **4.2** - Define a resize factor and resize the x and y dimensions by this factor (do not resize the time dimension) : "
   ]
  },
  {
   "cell_type": "code",
   "execution_count": null,
   "metadata": {},
   "outputs": [],
   "source": [
    "RSIZE_FACTOR = 2\n",
    "stack_rsize = resize(stack,(nT//1, nY//RSIZE_FACTOR, nX//RSIZE_FACTOR), preserve_range=True, anti_aliasing=True) "
   ]
  },
  {
   "cell_type": "markdown",
   "metadata": {},
   "source": [
    "<span style=\"color:red\"> **- Exercice 2: Assign variables to each new dimension sizes :**"
   ]
  },
  {
   "cell_type": "code",
   "execution_count": null,
   "metadata": {},
   "outputs": [],
   "source": [
    "# Find a solution, see 2.3"
   ]
  },
  {
   "cell_type": "code",
   "execution_count": null,
   "metadata": {},
   "outputs": [],
   "source": []
  },
  {
   "cell_type": "markdown",
   "metadata": {},
   "source": [
    "<span style=\"color:red\"> **- Exercice 3: Extract cropped region of** `stack` **and** `stack_rsize` **and display it side by side :**"
   ]
  },
  {
   "cell_type": "code",
   "execution_count": null,
   "metadata": {},
   "outputs": [],
   "source": [
    "# Find a solution, see 3.3 and Exercice 1"
   ]
  },
  {
   "cell_type": "code",
   "execution_count": null,
   "metadata": {},
   "outputs": [],
   "source": []
  },
  {
   "cell_type": "markdown",
   "metadata": {},
   "source": [
    "---\n",
    "## 5) Save resized stack\n",
    "Here, we will learn how to save a stack of images using the scikit-image (or skimage) library."
   ]
  },
  {
   "cell_type": "markdown",
   "metadata": {},
   "source": [
    "<span style=\"color:red\"> **- Exercice 4: Define a path to save** `stack_rsize` **as** `Ctrl_Endocad-GFP(6-12-13)_23_StackCrop_rsize.tif` **in the** `BD_EpiCellSeg/DataSet` **shared folder :**"
   ]
  },
  {
   "cell_type": "code",
   "execution_count": null,
   "metadata": {},
   "outputs": [],
   "source": [
    "# Find a solution, see 1.2"
   ]
  },
  {
   "cell_type": "code",
   "execution_count": null,
   "metadata": {},
   "outputs": [],
   "source": []
  },
  {
   "cell_type": "markdown",
   "metadata": {},
   "source": [
    "- **5.1** - Convert stack_rsize from float64 to uint16 using the `astype()` method :"
   ]
  },
  {
   "cell_type": "code",
   "execution_count": null,
   "metadata": {},
   "outputs": [],
   "source": [
    "stack_rsize = stack_rsize.astype('uint16')"
   ]
  },
  {
   "cell_type": "markdown",
   "metadata": {},
   "source": [
    "- **5.2** - Save stack_rsize using the `imsave` function of the `io` module :"
   ]
  },
  {
   "cell_type": "code",
   "execution_count": null,
   "metadata": {},
   "outputs": [],
   "source": [
    "io.imsave(stack_path_rsize, stack_rsize, check_contrast=False)"
   ]
  },
  {
   "cell_type": "markdown",
   "metadata": {},
   "source": [
    "---\n",
    "## 6) Batch processing\n",
    "Here, we will resize all stacks present in the `BD_EpiCellSeg/DataSet` shared folder at once"
   ]
  },
  {
   "cell_type": "markdown",
   "metadata": {},
   "source": [
    "- **6.1** - Import the `os` module :"
   ]
  },
  {
   "cell_type": "code",
   "execution_count": null,
   "metadata": {},
   "outputs": [],
   "source": [
    "import os "
   ]
  },
  {
   "cell_type": "markdown",
   "metadata": {},
   "source": [
    "- **6.2** - Get folder content list using the `listdir` method of the `os` module :"
   ]
  },
  {
   "cell_type": "code",
   "execution_count": null,
   "metadata": {},
   "outputs": [],
   "source": [
    "dir_list = os.listdir(ROOT_PATH)\n",
    "print(dir_list)"
   ]
  },
  {
   "cell_type": "markdown",
   "metadata": {},
   "source": [
    "- **6.3** - Remove `dir_list` names that contain 'rsize' :"
   ]
  },
  {
   "cell_type": "code",
   "execution_count": null,
   "metadata": {},
   "outputs": [],
   "source": [
    "# Loop through dir_list and check wether file names contain 'rsize'\n",
    "# If this is the case remove the name from the list\n",
    "for stack_name in dir_list:\n",
    "    if 'rsize' in stack_name: \n",
    "        dir_list.remove(stack_name)\n",
    "print(dir_list)        "
   ]
  },
  {
   "cell_type": "markdown",
   "metadata": {},
   "source": [
    "<span style=\"color:red\"> **- Exercice 5: Loop through** `dir_list` **and resize/save all stacks contained in** `BD_EpiCellSeg/DataSet` **shared folder :**"
   ]
  },
  {
   "cell_type": "code",
   "execution_count": null,
   "metadata": {},
   "outputs": [],
   "source": [
    "# Find a solution, see 1.3, 1.4, 2.3, 4.2, Exercice 4, 5.1 and 5.2"
   ]
  },
  {
   "cell_type": "code",
   "execution_count": null,
   "metadata": {},
   "outputs": [],
   "source": []
  }
 ],
 "metadata": {
  "kernelspec": {
   "display_name": "Python 3",
   "language": "python",
   "name": "python3"
  },
  "language_info": {
   "codemirror_mode": {
    "name": "ipython",
    "version": 3
   },
   "file_extension": ".py",
   "mimetype": "text/x-python",
   "name": "python",
   "nbconvert_exporter": "python",
   "pygments_lexer": "ipython3",
   "version": "3.8.5"
  }
 },
 "nbformat": 4,
 "nbformat_minor": 4
}
